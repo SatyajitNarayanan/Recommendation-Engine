{
 "cells": [
  {
   "cell_type": "markdown",
   "metadata": {},
   "source": [
    "## Recommendation Engine - ISE 589 Python Programming Project"
   ]
  },
  {
   "cell_type": "markdown",
   "metadata": {},
   "source": [
    "### Introduction"
   ]
  },
  {
   "cell_type": "markdown",
   "metadata": {},
   "source": [
    "A recommendation engine is software that analyzes available data to make suggestions for something that a website user might be interested in, such as a book, a video or a job, among other possibilities. Netflix, for example, uses metadata tagging on videos in conjunction with data about user behavior to come up with recommended movies and TV shows for specific members. Through this project, I have attempted to create a Recommendation Engine using the Collaborative filtering model to predict what movies an existing user as well as a new user would want to watch."
   ]
  },
  {
   "cell_type": "markdown",
   "metadata": {},
   "source": [
    "### Importing the packages used for the analysis"
   ]
  },
  {
   "cell_type": "code",
   "execution_count": 1,
   "metadata": {},
   "outputs": [],
   "source": [
    "# Importing Pandas and NumPy packages to perform dataframe and array operations\n",
    "import pandas as pd\n",
    "import numpy as np\n",
    "\n",
    "# Importing Sklearn packages to perform similarity and matrix related operations\n",
    "from sklearn.metrics.pairwise import pairwise_distances \n",
    "from sklearn.preprocessing import StandardScaler\n",
    "from sklearn import preprocessing\n",
    "\n",
    "# Importing iPython Widget packages to create an interactive dashboard layout\n",
    "import ipywidgets as widgets\n",
    "from ipywidgets import interactive\n",
    "from ipywidgets import interact, interactive, fixed, interact_manual\n",
    "from ipywidgets import FloatSlider"
   ]
  },
  {
   "cell_type": "markdown",
   "metadata": {},
   "source": [
    "### Data used for analysis"
   ]
  },
  {
   "cell_type": "markdown",
   "metadata": {},
   "source": [
    "The MovieLens dataset has been used for the purpose of this project. It has been collected by the GroupLens Research Project at the University of Minnesota. It consists of:\n",
    "* 100,000 ratings (1-5) from 943 users on 1682 movies\n",
    "* Demographic info for the users\n",
    "* Genre information of movies\n",
    "\n",
    "First the data is loaded into Python. There are many files in the ml-100k.zip file which can be used. Lets load the three most importance files (user, movie and ratings) to get a sense of the data."
   ]
  },
  {
   "cell_type": "code",
   "execution_count": 2,
   "metadata": {},
   "outputs": [],
   "source": [
    "#Reading users file:\n",
    "userscolNames = ['user_id', 'age', 'sex', 'occupation', 'zip_code']\n",
    "users = pd.read_csv(r'C:\\Users\\Satyajit Narayanan\\Desktop\\589\\Project\\ml-100k\\ml-100k\\u.user', sep='|', names=userscolNames,encoding='latin-1')\n",
    "\n",
    "#Reading ratings file:\n",
    "ratingscolNames = ['user_id', 'movie_id', 'rating', 'unix_timestamp']\n",
    "ratings = pd.read_csv(r'C:\\Users\\Satyajit Narayanan\\Desktop\\589\\Project\\ml-100k\\ml-100k\\u.data', sep='\\t', names=ratingscolNames,encoding='latin-1')\n",
    "\n",
    "#Reading movies file:\n",
    "moviecolNames = ['movie id', 'movie title' ,'release date','video release date', 'IMDb URL', 'unknown', 'Action', 'Adventure',\n",
    "'Animation', 'Children\\'s', 'Comedy', 'Crime', 'Documentary', 'Drama', 'Fantasy',\n",
    "'Film-Noir', 'Horror', 'Musical', 'Mystery', 'Romance', 'Sci-Fi', 'Thriller', 'War', 'Western']\n",
    "movies = pd.read_csv(r'C:\\Users\\Satyajit Narayanan\\Desktop\\589\\Project\\ml-100k\\ml-100k\\u.item', sep='|', names=moviecolNames,\n",
    "encoding='latin-1')"
   ]
  },
  {
   "cell_type": "markdown",
   "metadata": {},
   "source": [
    "### Modeling the Recommendation Engine"
   ]
  },
  {
   "cell_type": "markdown",
   "metadata": {},
   "source": [
    "There are broadly two types of recommender engines – Content Based and Collaborative Filtering.\n",
    "* ***Content Based algorithms*** are strongly based on driving the context of the item. Once you have gathered this context level information on items, you try to find look alike items and recommend them. It generally works well when its easy to determine the properties of each item. For instance when we are recommending the same kind of item like a movie recommendation or song recommendation. \n",
    "\n",
    "* ***Collaborative Filtering algorithm*** is entirely based on the past behavior and not on the context. This makes it one of the most commonly used algorithm as it is not dependent on any additional information. All you need is the transaction level information of the industry. Further, there are 2 types of collaborative filtering algorithms:\n",
    "    * *User-User Collaborative filtering:* Here look alike customers (based on similarity) are found and offered products based on what  the customer’s look alike has chosen in past. This algorithm is very effective but takes a lot of time and resources. \n",
    "    * *Item-Item Collaborative filtering:* This is similar to the previous algorithm, but instead of finding customer look alike, we try finding item look alike. Once we have item look alike matrix, we can easily recommend alike items to customer who have purchased any item from the store. This algorithm is far less resource consuming than user-user collaborative filtering. \n",
    "    \n",
    "This project showcases the use of the *Collaborative Filtering algorithm* to make predictions of best recommendations. Both, User-User similarity and Item-Item similarity is taken into consideration to make this prediction.\n",
    "Furthermore, in order to recommend movies to a *New User*, a model is created to select best picks based on 1 previously watched movie."
   ]
  },
  {
   "cell_type": "markdown",
   "metadata": {},
   "source": [
    "#### Creating a user-movie ratings matrix to be used to calculate the similarity between users and movies"
   ]
  },
  {
   "cell_type": "code",
   "execution_count": 3,
   "metadata": {},
   "outputs": [],
   "source": [
    "# Creating a list of unique users based on their user id\n",
    "Users = ratings.user_id.unique()\n",
    "uniqueUsers = sorted(pd.DataFrame(Users)[0].unique().tolist())\n",
    "\n",
    "# Creating a list of unique movie titles\n",
    "uniqueMovies = pd.DataFrame(movies)['movie title']\n",
    "\n",
    "# Number of users\n",
    "numUsers = ratings.user_id.unique().shape[0]\n",
    "\n",
    "# Number of movies\n",
    "numMovies = ratings.movie_id.unique().shape[0]\n",
    "\n",
    "# Creating the user-movie matrix \n",
    "usermovieMatrix = np.zeros((numUsers, numMovies))\n",
    "for line in ratings.itertuples():\n",
    "    usermovieMatrix[line[1]-1, line[2]-1] = line[3]"
   ]
  },
  {
   "cell_type": "markdown",
   "metadata": {},
   "source": [
    "#### Using the *pairwise_distance* function from *sklearn* to calculate the similarity"
   ]
  },
  {
   "cell_type": "code",
   "execution_count": 4,
   "metadata": {},
   "outputs": [],
   "source": [
    "# Calculating the user - user similarity matrix\n",
    "userCosineSimilarity = pairwise_distances(usermovieMatrix, metric='cosine')\n",
    "\n",
    "# Calculating the movie - movie similarity matrix\n",
    "movieCosineSimilarity = pairwise_distances(usermovieMatrix.T, metric='cosine')"
   ]
  },
  {
   "cell_type": "markdown",
   "metadata": {},
   "source": [
    "#### Making predictions based on these movie-movie and user-user similarities\n",
    "\n",
    "The ratings of the movie by a user is predicted based on:\n",
    "* User-User Similarity\n",
    "* Movie-Movie Similarity\n",
    "\n",
    "These predictions are made by matrix multiplication of similarity matrix with the user-movie ratings matrix"
   ]
  },
  {
   "cell_type": "code",
   "execution_count": 5,
   "metadata": {},
   "outputs": [],
   "source": [
    "# Making predictions based on user similarity and movie similarity respectively\n",
    "user_prediction = userCosineSimilarity.dot(usermovieMatrix) / np.array([np.abs(userCosineSimilarity).sum(axis=1)]).T\n",
    "movie_prediction = usermovieMatrix.dot(movieCosineSimilarity) / np.array([np.abs(movieCosineSimilarity).sum(axis=1)])\n"
   ]
  },
  {
   "cell_type": "markdown",
   "metadata": {},
   "source": [
    "#### Combining Predictions\n",
    "\n",
    "Here, ratings are obtained and combined from both the filtering methods. This is done in order to incorporate the effect of both the predictions for a better result.\n",
    "The weightage term is ***alpha***. The greater the *alpha* value, the more it gives weight towards the prediction based on Movie Similarity and vice versa.\n",
    "\n",
    "The alpha value can be changed based on user's preference. The default starting value is taken as 0.5 (50%)"
   ]
  },
  {
   "cell_type": "code",
   "execution_count": 6,
   "metadata": {},
   "outputs": [],
   "source": [
    "alpha = 0.5\n",
    "combined_pred = (1-alpha)*user_prediction + alpha*movie_prediction"
   ]
  },
  {
   "cell_type": "markdown",
   "metadata": {},
   "source": [
    "#### Defining functions to rank and pick top recommendations\n",
    "\n",
    "A function is defined to display top 5 recommendations for an *Existing User* and an *alpha* value.\n",
    "\n",
    "After the *User ID* is chosen, the top 5 recommendations for that *User* is displayed based on *alpha* = 0.5, that is, equal weightage given to predcition based on Movie Similarity and User Similarity."
   ]
  },
  {
   "cell_type": "code",
   "execution_count": 7,
   "metadata": {},
   "outputs": [],
   "source": [
    "def top5recommendations(User, alpha):\n",
    "    if User is None:\n",
    "        print(\"\\n\")\n",
    "    elif User is not None:\n",
    "        # Ranking based on combined prediction\n",
    "        \n",
    "        # Combined prediction values are recalculated\n",
    "        combined_pred = (1-alpha)*user_prediction + alpha*movie_prediction \n",
    "        \n",
    "        # Prediction scores are ranked and sorted\n",
    "        combinedRank = pd.DataFrame(pd.DataFrame(combined_pred).iloc[User-1,])\n",
    "        combinedRank['Rank'] = combinedRank.rank(ascending=False)\n",
    "        combinedRank.sort_values('Rank')\n",
    "\n",
    "        # Movie titles are added \n",
    "        combinedRank = pd.merge(combinedRank, movies['movie title'].to_frame(), how='left', left_index=True, right_index=True)\n",
    "\n",
    "        # Joining actual rating values for the movies\n",
    "        combinedRankjoin = pd.merge(combinedRank, \n",
    "        pd.DataFrame(usermovieMatrix).iloc[User-1,].to_frame(), how='left', left_index=True, right_index=True)\n",
    "\n",
    "        # Filtering for movies that the user hasn't rated (seen) before\n",
    "        combinedRankF = combinedRankjoin.drop(combinedRankjoin[combinedRankjoin[f'{User-1}_y']>0].index)\n",
    "\n",
    "        # Creating a list of top 5 recommendations\n",
    "        rList = combinedRankF.sort_values('Rank').head()['movie title']\n",
    "\n",
    "        # Printing the recommendations\n",
    "        print(\"\\nThe top 5 recommended movies are:\")\n",
    "        for a, b in enumerate(rList, 1):\n",
    "            print ('{}. {}'.format(a, b))\n",
    "            "
   ]
  },
  {
   "cell_type": "markdown",
   "metadata": {},
   "source": [
    "A function is defined to display top 5 recommendations for an *New User* by asking them to choose 1 previously watched movie.\n",
    "This is done by ranking movies based on their similarity to the chosen movie (based on similarity scores calculated earlier)"
   ]
  },
  {
   "cell_type": "code",
   "execution_count": 8,
   "metadata": {},
   "outputs": [],
   "source": [
    "def top5NewUSer(Movie):\n",
    "    if Movie is None:\n",
    "        print(\"\\n\")\n",
    "    elif Movie is not None:\n",
    "        Movieindex = uniqueMovies[uniqueMovies == Movie].index[0]\n",
    "        movieRecomm = pd.DataFrame(movieCosineSimilarity[Movieindex]).sort_values([0])\n",
    "        movieRecomm = movieRecomm.drop(movieRecomm[movieRecomm[0].index==Movieindex].index)\n",
    "        movieRecomm = pd.merge(movieRecomm.head(), movies['movie title'].to_frame(), how='left', left_index=True, right_index=True)\n",
    "        print(\"\\nThe top 5 recommended movies are:\")\n",
    "        for a, b in enumerate(movieRecomm['movie title'], 1):\n",
    "            print ('{}. {}'.format(a, b))"
   ]
  },
  {
   "cell_type": "markdown",
   "metadata": {},
   "source": [
    "### Evaluating the recommendation engine\n",
    "\n",
    "There are various metrics to evaluate the recommendation engine. I have used Precision to evaluate the performance of the model. This is because precision expresses the proportion of the data points our model says was relevant actually were relevant, which is what we want to measure. \n",
    "\n",
    "Here, **Precision** shows out of all the recommended items, how many did the user actually like?\n",
    "\n",
    "It is given by:\n",
    "\n",
    "**Precision = tp/(tp + fp)**\n",
    "\n",
    "* *tp* represents the number of movies recommended to a user that he/she likes (4 or 5 rating)\n",
    "* *tp+fp* represents the total number of movies recommended to a user (I have used the top 20 recommendations for each user)\n",
    "\n",
    "Larger the precision, better the recommendations. We obtain an average precision for all users put together as 63%.\n",
    "\n"
   ]
  },
  {
   "cell_type": "code",
   "execution_count": 9,
   "metadata": {},
   "outputs": [
    {
     "name": "stdout",
     "output_type": "stream",
     "text": [
      "The Precision is 0.628260869565217\n"
     ]
    }
   ],
   "source": [
    "precisionList=[]\n",
    "alpha = 0.5\n",
    "for i in range(len(uniqueUsers)):\n",
    "    User = i\n",
    "    #for range(len(uniqueUsers))\n",
    "    combined_pred = (1-alpha)*user_prediction + alpha*movie_prediction \n",
    "    # Prediction scores are ranked and sorted\n",
    "    combinedRank = pd.DataFrame(pd.DataFrame(combined_pred).iloc[User,])\n",
    "    combinedRank['Rank'] = combinedRank.rank(ascending=False)\n",
    "    combinedRank.sort_values('Rank')\n",
    "    # Joining actual rating values for the movies\n",
    "    combinedRankjoin = pd.merge(combinedRank, \n",
    "    pd.DataFrame(usermovieMatrix).iloc[User,].to_frame(), how='left', left_index=True, right_index=True)\n",
    "    # Filtering for movies that the user hasn rated (seen) before\n",
    "    combinedRated = combinedRankjoin.take(combinedRankjoin[combinedRankjoin[f'{User}_y']>0].index)\n",
    "    precisionList.append(len(combinedRated.head(20)[combinedRated.head(20)[f'{User}_y']>3])/20)\n",
    "\n",
    "    \n",
    "print('The Precision is', sum(precisionList)/len(precisionList))"
   ]
  },
  {
   "cell_type": "markdown",
   "metadata": {},
   "source": [
    "### Visualizing the Recommendation Engine\n",
    "\n",
    "An interactive dashboard was created as a function using iPython's widget functionality for Jupyter Notebooks. This helps the user intuitively choose the movies and/or users based on the kind of recommendation he/she needs to make. \n",
    "\n",
    "Below are 2 functions to choose the kind of user and respective recommendation and to call the Recommendations Engine function."
   ]
  },
  {
   "cell_type": "code",
   "execution_count": 10,
   "metadata": {},
   "outputs": [],
   "source": [
    "def recomm(i):\n",
    "    if i=='New User':\n",
    "        print(\"Choose 1 movie you have previously watched:\")\n",
    "        return widgets.interactive(top5NewUSer, Movie=widgets.Dropdown(options=uniqueMovies, value=None))\n",
    "    elif i == 'Existing User':\n",
    "        print(\"Choose a user for whom you want to recommend:\")\n",
    "        return widgets.interactive(top5recommendations, User=widgets.Dropdown(options=uniqueUsers, value=None), alpha = widgets.FloatSlider(\n",
    "    value=0.5, min=0, max=1, step=0.1,  description='Alpha:',  disabled=False, continuous_update=False, orientation='horizontal',\n",
    "    readout=True, readout_format='.1f',))\n",
    "\n",
    "\n",
    "def Recommender():\n",
    "    im = interact_manual(recomm,i=widgets.Dropdown(options=['New User','Existing User']));\n",
    "    im.widget.children[0].description = 'User Type:';\n",
    "    im.widget.children[1].description = 'Recommend';"
   ]
  },
  {
   "cell_type": "markdown",
   "metadata": {},
   "source": [
    "#### Calling the ***Recommender*** function"
   ]
  },
  {
   "cell_type": "code",
   "execution_count": 11,
   "metadata": {},
   "outputs": [
    {
     "data": {
      "application/vnd.jupyter.widget-view+json": {
       "model_id": "e92362d6424b4f459927b6eee7d141ad",
       "version_major": 2,
       "version_minor": 0
      },
      "text/plain": [
       "interactive(children=(Dropdown(description='i', options=('New User', 'Existing User'), value='New User'), Butt…"
      ]
     },
     "metadata": {},
     "output_type": "display_data"
    }
   ],
   "source": [
    "Recommender()"
   ]
  }
 ],
 "metadata": {
  "kernelspec": {
   "display_name": "Python 3",
   "language": "python",
   "name": "python3"
  },
  "language_info": {
   "codemirror_mode": {
    "name": "ipython",
    "version": 3
   },
   "file_extension": ".py",
   "mimetype": "text/x-python",
   "name": "python",
   "nbconvert_exporter": "python",
   "pygments_lexer": "ipython3",
   "version": "3.7.0"
  }
 },
 "nbformat": 4,
 "nbformat_minor": 2
}
